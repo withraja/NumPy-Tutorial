{
 "cells": [
  {
   "cell_type": "markdown",
   "metadata": {},
   "source": [
    "# **Saving** Files with NumPy"
   ]
  },
  {
   "cell_type": "code",
   "execution_count": null,
   "metadata": {},
   "outputs": [],
   "source": [
    "import numpy as np"
   ]
  },
  {
   "cell_type": "code",
   "execution_count": null,
   "metadata": {},
   "outputs": [],
   "source": [
    "lending_co = np.genfromtxt(\"Lending-Company-Saving.csv\", \n",
    "                           delimiter = ',', \n",
    "                           dtype = np.str)\n",
    "\n",
    "print(lending_co)\n",
    "\n",
    "## We're just importing a dataset, so we can save it later. \n",
    "## Usually, we will be working with an array already, so we could skip this. "
   ]
  },
  {
   "cell_type": "markdown",
   "metadata": {},
   "source": [
    "## np.**save** ( )"
   ]
  },
  {
   "cell_type": "markdown",
   "metadata": {},
   "source": [
    "mengekspor file bertipe **.npy**  \n",
    "argumennya ada **\"Nama-File-yang-Akan-DiSave\"**  dan  **nama_variabel_yang_diload** "
   ]
  },
  {
   "cell_type": "code",
   "execution_count": null,
   "metadata": {},
   "outputs": [],
   "source": [
    "np.save(\"Lending-Company-Saving\", lending_co)\n",
    "\n",
    "## Create an .npy file with the data from the lending_co array. "
   ]
  },
  {
   "cell_type": "code",
   "execution_count": null,
   "metadata": {},
   "outputs": [],
   "source": [
    "lending_data_save = np.load(\"Lending-Company-Saving.npy\")\n",
    "\n",
    "## Load the .npy file we just created. (Load != Import in this case)"
   ]
  },
  {
   "cell_type": "code",
   "execution_count": null,
   "metadata": {
    "scrolled": true
   },
   "outputs": [],
   "source": [
    "print(lending_data_save)"
   ]
  },
  {
   "cell_type": "code",
   "execution_count": null,
   "metadata": {},
   "outputs": [],
   "source": [
    "np.array_equal(lending_data_save, lending_co)\n",
    "\n",
    "# The original array is identical to the one we saved and then loaded back into Python. "
   ]
  },
  {
   "cell_type": "markdown",
   "metadata": {},
   "source": [
    "## np.**savez** ( )"
   ]
  },
  {
   "cell_type": "markdown",
   "metadata": {},
   "source": [
    "mengekspor file bertipe **.npz**  \n",
    ".npz adalah file yang berbentuk *archive* jadi kita **bisa menyimpan banyak file .npy di dalamnya**"
   ]
  },
  {
   "cell_type": "code",
   "execution_count": null,
   "metadata": {},
   "outputs": [],
   "source": [
    "# Import array pertama yang diberi nama \"lending_co\"\n",
    "lending_co = np.genfromtxt(\"Lending-Company-Saving.csv\", \n",
    "                           delimiter = ',',\n",
    "                           dtype = np.str) \n",
    "\n",
    "# Import (load) array kedua yang diberi nama \"lending_data_save\"\n",
    "lending_data_save = np.load('Lending-Company-Saving.npy') \n",
    "\n",
    "# Karena .npz adalah archive, kita ingin membuktikkan jika .npz bisa menyimpan lebih dari satu array"
   ]
  },
  {
   "cell_type": "code",
   "execution_count": null,
   "metadata": {},
   "outputs": [],
   "source": [
    "np.savez(\"Lending-Company-Saving\", # memberi nama file .npz\n",
    "         lending_co,               # menyimpan array pertama di .npz\n",
    "         lending_data_save)        # menyimpan array kedua di .npz\n",
    "\n",
    "# Creates the .npz file, which is an archive of .npy files. "
   ]
  },
  {
   "cell_type": "markdown",
   "metadata": {},
   "source": [
    "### Perhatikan **cara load data dari .npz**"
   ]
  },
  {
   "cell_type": "code",
   "execution_count": null,
   "metadata": {},
   "outputs": [],
   "source": [
    "lending_data_savez = np.load('Lending-Company-Saving.npz')\n",
    "\n",
    "# We also load .npz files."
   ]
  },
  {
   "cell_type": "markdown",
   "metadata": {},
   "source": [
    "Jika kita run code di bawah, hasilnya tidak akan keluar.  \n",
    "Karena .npz terdiri dari beberapa array"
   ]
  },
  {
   "cell_type": "code",
   "execution_count": null,
   "metadata": {},
   "outputs": [],
   "source": [
    "print(lending_data_savez)"
   ]
  },
  {
   "cell_type": "markdown",
   "metadata": {},
   "source": [
    "Karenanya kita harus lebih spesifik mau load array yang ke-berapa  \n",
    "Ingat! **Python menggunakan indexing 0**. Jadi nama array pertama defaultnya \"arr_1\""
   ]
  },
  {
   "cell_type": "code",
   "execution_count": null,
   "metadata": {},
   "outputs": [],
   "source": [
    "print(lending_data_savez[\"arr_1\"])\n",
    "\n",
    "# np.savez() assigns default names to each .npy inside the archive."
   ]
  },
  {
   "cell_type": "markdown",
   "metadata": {},
   "source": [
    "Agar kita tidak kesusahan mengingat indexnya, saat menyimpan .npz kita **bisa custom nama array-nya**"
   ]
  },
  {
   "cell_type": "code",
   "execution_count": null,
   "metadata": {},
   "outputs": [],
   "source": [
    "np.savez(\"Lending-Company-Saving\", company = lending_co, data_save = lending_data_save) \n",
    "\n",
    "# Assign custom recognizable names to the individual .npy files in the .npz"
   ]
  },
  {
   "cell_type": "code",
   "execution_count": null,
   "metadata": {},
   "outputs": [],
   "source": [
    "lending_data_savez = np.load(\"Lending-Company-Saving.npz\")\n",
    "\n",
    "# Kita load lagi file .npz-nya "
   ]
  },
  {
   "cell_type": "code",
   "execution_count": null,
   "metadata": {},
   "outputs": [],
   "source": [
    "lending_data_savez.files\n",
    "\n",
    "# Shows the names of all the .npy files stored in the .npz"
   ]
  },
  {
   "cell_type": "code",
   "execution_count": null,
   "metadata": {
    "scrolled": true
   },
   "outputs": [],
   "source": [
    "print(lending_data_savez[\"data_save\"])\n",
    "\n",
    "# Sekarang kita bisa print dengan nama custom yang sudah kita berikan"
   ]
  },
  {
   "cell_type": "code",
   "execution_count": null,
   "metadata": {
    "scrolled": true
   },
   "outputs": [],
   "source": [
    "np.array_equal(lending_data_savez[\"company\"],lending_data_savez[\"data_save\"])\n",
    "\n",
    "# Even after saving and loading the datasets back into Python, they are still identical."
   ]
  },
  {
   "cell_type": "markdown",
   "metadata": {},
   "source": [
    "## np.**savetxt** ( )"
   ]
  },
  {
   "cell_type": "code",
   "execution_count": null,
   "metadata": {},
   "outputs": [],
   "source": [
    "lending_co = np.genfromtxt(\"Lending-Company-Saving.csv\",\n",
    "                           delimiter = ',',\n",
    "                           dtype = np.str) "
   ]
  },
  {
   "cell_type": "code",
   "execution_count": null,
   "metadata": {},
   "outputs": [],
   "source": [
    "np.savetxt(\"Lending-Company-Saving.txt\", \n",
    "           lending_co, \n",
    "           fmt = '%s', \n",
    "           delimiter = ',')\n",
    "\n",
    "# We must specify the file extension (txt or csv).\n",
    "# We must specify the format (strings in this case).\n",
    "# We must set a delimiter (comma in this case)."
   ]
  },
  {
   "cell_type": "code",
   "execution_count": null,
   "metadata": {
    "scrolled": true
   },
   "outputs": [],
   "source": [
    "lending_data_savetxt = np.genfromtxt(\"Lending-Company-Saving.txt\", \n",
    "                                     delimiter = ',', \n",
    "                                     dtype = np.str)\n",
    "\n",
    "print(lending_data_savetxt)\n",
    "\n",
    "# We're importing the .txt file we just created."
   ]
  },
  {
   "cell_type": "code",
   "execution_count": null,
   "metadata": {},
   "outputs": [],
   "source": [
    "lending_data_save = np.load(\"Lending-Company-Saving.npy\")"
   ]
  },
  {
   "cell_type": "code",
   "execution_count": null,
   "metadata": {
    "scrolled": true
   },
   "outputs": [],
   "source": [
    "np.array_equal(lending_data_savetxt, lending_data_save)"
   ]
  }
 ],
 "metadata": {
  "kernelspec": {
   "display_name": "Python 3",
   "language": "python",
   "name": "python3"
  },
  "language_info": {
   "codemirror_mode": {
    "name": "ipython",
    "version": 3
   },
   "file_extension": ".py",
   "mimetype": "text/x-python",
   "name": "python",
   "nbconvert_exporter": "python",
   "pygments_lexer": "ipython3",
   "version": "3.7.6"
  }
 },
 "nbformat": 4,
 "nbformat_minor": 2
}
