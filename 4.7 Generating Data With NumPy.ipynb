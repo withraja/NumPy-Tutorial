{
 "cells": [
  {
   "cell_type": "markdown",
   "metadata": {},
   "source": [
    "# **Generating Data** w/ Numpy"
   ]
  },
  {
   "cell_type": "code",
   "execution_count": 12,
   "metadata": {},
   "outputs": [],
   "source": [
    "import numpy as np"
   ]
  },
  {
   "cell_type": "markdown",
   "metadata": {},
   "source": [
    "## **Non-Random** Values"
   ]
  },
  {
   "cell_type": "markdown",
   "metadata": {},
   "source": [
    "### **np.empty** ( )"
   ]
  },
  {
   "cell_type": "markdown",
   "metadata": {},
   "source": [
    "cara tercepat untuk generate N-Dimensional Array. Namun array yang dihasilkan tidak konsisten, tergantung memori yang tersedia di RAM. Biasanya akan generate 0. Namun bisa saja bukan 0.    \n",
    "***shape** menentukan dimensi arraynya  \n",
    "***dtype** menentukan data typenya *(optional)*"
   ]
  },
  {
   "cell_type": "code",
   "execution_count": 13,
   "metadata": {},
   "outputs": [
    {
     "data": {
      "text/plain": [
       "array([[1., 1., 1.],\n",
       "       [1., 1., 1.]])"
      ]
     },
     "execution_count": 13,
     "metadata": {},
     "output_type": "execute_result"
    }
   ],
   "source": [
    "array_empty = np.empty(shape = (2,3))\n",
    "array_empty"
   ]
  },
  {
   "cell_type": "markdown",
   "metadata": {},
   "source": [
    "### **np.zeros** ( )"
   ]
  },
  {
   "cell_type": "markdown",
   "metadata": {},
   "source": [
    "Membuat array dengan angka konsisten yaitu 0 (sesuai namanya). Argumennya pun sama dengan np.empty"
   ]
  },
  {
   "cell_type": "code",
   "execution_count": 14,
   "metadata": {},
   "outputs": [
    {
     "data": {
      "text/plain": [
       "array([[0., 0., 0.],\n",
       "       [0., 0., 0.]])"
      ]
     },
     "execution_count": 14,
     "metadata": {},
     "output_type": "execute_result"
    }
   ],
   "source": [
    "# zeros\n",
    "array_0s = np.zeros(shape  = (2,3))\n",
    "array_0s"
   ]
  },
  {
   "cell_type": "code",
   "execution_count": 15,
   "metadata": {
    "scrolled": true
   },
   "outputs": [
    {
     "data": {
      "text/plain": [
       "array([[0, 0, 0],\n",
       "       [0, 0, 0]], dtype=int8)"
      ]
     },
     "execution_count": 15,
     "metadata": {},
     "output_type": "execute_result"
    }
   ],
   "source": [
    "array_0s = np.zeros(shape = (2,3), dtype = np.int8) \n",
    "array_0s"
   ]
  },
  {
   "cell_type": "markdown",
   "metadata": {},
   "source": [
    "### **np.ones** ( )"
   ]
  },
  {
   "cell_type": "markdown",
   "metadata": {},
   "source": [
    "Membuat array dengan angka konsisten yaitu 1 (sesuai namanya). Argumennya pun sama dengan np.empty"
   ]
  },
  {
   "cell_type": "code",
   "execution_count": 16,
   "metadata": {},
   "outputs": [
    {
     "data": {
      "text/plain": [
       "array([[1., 1., 1.],\n",
       "       [1., 1., 1.]])"
      ]
     },
     "execution_count": 16,
     "metadata": {},
     "output_type": "execute_result"
    }
   ],
   "source": [
    "# ones\n",
    "array_1s = np.ones(shape  = (2,3))\n",
    "array_1s"
   ]
  },
  {
   "cell_type": "markdown",
   "metadata": {},
   "source": [
    "### **np.full** ( )"
   ]
  },
  {
   "cell_type": "markdown",
   "metadata": {},
   "source": [
    "Membuat array dengan nilai yang sudah kita tentukan di parameter ***fill-value***  \n",
    "Array akan terisi dengan value tersebut (isinya sama semua dengan fill-value)  \n",
    "***fill-value** menentukan array kita berisi value apa"
   ]
  },
  {
   "cell_type": "code",
   "execution_count": 17,
   "metadata": {},
   "outputs": [
    {
     "data": {
      "text/plain": [
       "array([[2, 2, 2],\n",
       "       [2, 2, 2]])"
      ]
     },
     "execution_count": 17,
     "metadata": {},
     "output_type": "execute_result"
    }
   ],
   "source": [
    "array_full = np.full(shape = (2,3), fill_value = 2) # One additional mandatory argument - fill_value -> scalar\n",
    "array_full"
   ]
  },
  {
   "cell_type": "code",
   "execution_count": 18,
   "metadata": {},
   "outputs": [
    {
     "data": {
      "text/plain": [
       "array([['Three-Six-Five', 'Three-Six-Five', 'Three-Six-Five'],\n",
       "       ['Three-Six-Five', 'Three-Six-Five', 'Three-Six-Five']],\n",
       "      dtype='<U14')"
      ]
     },
     "execution_count": 18,
     "metadata": {},
     "output_type": "execute_result"
    }
   ],
   "source": [
    "array_full = np.full(shape = (2,3), fill_value = 'Three-Six-Five')\n",
    "array_full\n",
    "\n",
    "# bisa juga diisi dengan String"
   ]
  },
  {
   "cell_type": "markdown",
   "metadata": {},
   "source": [
    "### **np.arange** ( )"
   ]
  },
  {
   "cell_type": "markdown",
   "metadata": {},
   "source": [
    "Membuat array dengan value dari **range** yang kita tentukan  \n",
    "***start** menentukan mulai rangenya darimana  \n",
    "***stop** menentukan berhenti rangenya dimana *(optional)*  jika stop tidak ditentukan maka start = stop  \n",
    "***step** menentukan kelipatan value di range tersebut *(optional)*"
   ]
  },
  {
   "cell_type": "code",
   "execution_count": 19,
   "metadata": {},
   "outputs": [
    {
     "data": {
      "text/plain": [
       "array([ 0,  1,  2,  3,  4,  5,  6,  7,  8,  9, 10, 11, 12, 13, 14, 15, 16,\n",
       "       17, 18, 19, 20, 21, 22, 23, 24, 25, 26, 27, 28, 29])"
      ]
     },
     "execution_count": 19,
     "metadata": {},
     "output_type": "execute_result"
    }
   ],
   "source": [
    "array_rng = np.arange(30)\n",
    "array_rng\n",
    "\n",
    "## Creates an ndarray with the values in this range.\n",
    "## Dimulai dari 0 dan berhenti di 29"
   ]
  },
  {
   "cell_type": "code",
   "execution_count": 20,
   "metadata": {},
   "outputs": [
    {
     "data": {
      "text/plain": [
       "array([ 0,  1,  2,  3,  4,  5,  6,  7,  8,  9, 10, 11, 12, 13, 14, 15, 16,\n",
       "       17, 18, 19, 20, 21, 22, 23, 24, 25, 26, 27, 28, 29])"
      ]
     },
     "execution_count": 20,
     "metadata": {},
     "output_type": "execute_result"
    }
   ],
   "source": [
    "array_rng = np.arange(stop = 30)\n",
    "array_rng\n",
    "\n",
    "# The only mandatory argument is \"stop\", rather than start. \n",
    "# If we specify only a stop, the function assumes array starts from the origin (0)."
   ]
  },
  {
   "cell_type": "code",
   "execution_count": 21,
   "metadata": {},
   "outputs": [
    {
     "data": {
      "text/plain": [
       "array([ 0,  1,  2,  3,  4,  5,  6,  7,  8,  9, 10, 11, 12, 13, 14, 15, 16,\n",
       "       17, 18, 19, 20, 21, 22, 23, 24, 25, 26, 27, 28, 29])"
      ]
     },
     "execution_count": 21,
     "metadata": {},
     "output_type": "execute_result"
    }
   ],
   "source": [
    "array_rng = np.arange(start = 0, stop =  30)\n",
    "array_rng"
   ]
  },
  {
   "cell_type": "code",
   "execution_count": 22,
   "metadata": {},
   "outputs": [
    {
     "data": {
      "text/plain": [
       "array([ 0. ,  2.5,  5. ,  7.5, 10. , 12.5, 15. , 17.5, 20. , 22.5, 25. ,\n",
       "       27.5])"
      ]
     },
     "execution_count": 22,
     "metadata": {},
     "output_type": "execute_result"
    }
   ],
   "source": [
    "array_rng = np.arange(start = 0, stop =  30, step = 2.5)\n",
    "array_rng\n",
    "\n",
    "# \"Step\" doesn't have to be the same type as the values of the array. "
   ]
  },
  {
   "cell_type": "markdown",
   "metadata": {},
   "source": [
    "Jika dtypenya berbeda, maka bisa jadi hasilnya juga berbeda  \n",
    "Pastikan jika menggunakan **step decimal**, maka **dtypenya juga harus float** atau double"
   ]
  },
  {
   "cell_type": "code",
   "execution_count": 23,
   "metadata": {},
   "outputs": [
    {
     "data": {
      "text/plain": [
       "array([ 0,  2,  4,  6,  8, 10, 12, 14, 16, 18, 20, 22])"
      ]
     },
     "execution_count": 23,
     "metadata": {},
     "output_type": "execute_result"
    }
   ],
   "source": [
    "array_rng = np.arange(start = 0, stop =  30, step = 2.5, dtype = np.float32)\n",
    "array_rng = np.arange(start = 0, stop =  30, step = 2.5, dtype = np.int32)\n",
    "array_rng\n",
    "\n",
    "# NumPy unik saat menghitung, kenapa berbeda?\n",
    "# Pada int, NumPy menghitung 30 (range) : 2.5 (step) adalah 12\n",
    "# Jadi value yang digenerate hanya 12. Sama dengan jumlah value yang digenerate jika dtype = float"
   ]
  },
  {
   "cell_type": "markdown",
   "metadata": {},
   "source": [
    "## **\"_like\"** functions"
   ]
  },
  {
   "cell_type": "markdown",
   "metadata": {},
   "source": [
    "Basicnya bisa menggunakan Non-Random dan Random, namun menambahkan **_like**   \n",
    "Dimensi array yang digenerate **_like** akan sama dengan array yang menjadi prototypenya"
   ]
  },
  {
   "cell_type": "code",
   "execution_count": 24,
   "metadata": {},
   "outputs": [
    {
     "data": {
      "text/plain": [
       "array([[ 1,  0,  9,  2,  2],\n",
       "       [ 3, 23,  4,  5,  1],\n",
       "       [ 0,  2,  3,  4,  1]])"
      ]
     },
     "execution_count": 24,
     "metadata": {},
     "output_type": "execute_result"
    }
   ],
   "source": [
    "matrix_A = np.array([[1,0,9,2,2],[3,23,4,5,1],[0,2,3,4,1]])\n",
    "matrix_A\n",
    "\n",
    "# kita membuat matrix_A sebagai prototype untuk ditiru\n",
    "# terdiri dari 3 baris dan 5 kolom"
   ]
  },
  {
   "cell_type": "code",
   "execution_count": 25,
   "metadata": {},
   "outputs": [
    {
     "data": {
      "text/plain": [
       "array([[3801155, 5570652, 6619251, 7536754, 4259932],\n",
       "       [7667827, 6029427, 7340097, 4456560, 7602273],\n",
       "       [6029409, 7274572, 6357091, 6029420, 6619220]])"
      ]
     },
     "execution_count": 25,
     "metadata": {},
     "output_type": "execute_result"
    }
   ],
   "source": [
    "array_empty_like = np.empty_like(matrix_A)    \n",
    "array_empty_like\n",
    "\n",
    "# Shape and type are like the prototype. \n",
    "# If we want to override this, we can define dtype and shape and pass different values (but why even use empty_like then). \n",
    "# Membuat np.empty dengan fungsi _like"
   ]
  },
  {
   "cell_type": "code",
   "execution_count": 26,
   "metadata": {},
   "outputs": [
    {
     "data": {
      "text/plain": [
       "array([[0, 0, 0, 0, 0],\n",
       "       [0, 0, 0, 0, 0],\n",
       "       [0, 0, 0, 0, 0]])"
      ]
     },
     "execution_count": 26,
     "metadata": {},
     "output_type": "execute_result"
    }
   ],
   "source": [
    "array_0s_like = np.zeros_like(matrix_A)    \n",
    "array_0s_like\n",
    "\n",
    "# Membuat np.zeros dengan fungsi _like\n",
    "# We have corresponding functions for 1s and full as well. "
   ]
  },
  {
   "cell_type": "markdown",
   "metadata": {},
   "source": [
    "Cara lain membuat value array menjadi **negatif** semua cukup dengan simbol negatif sebelum fungsi"
   ]
  },
  {
   "cell_type": "code",
   "execution_count": 49,
   "metadata": {},
   "outputs": [
    {
     "data": {
      "text/plain": [
       "array([[-1, -1, -1, -1, -1],\n",
       "       [-1, -1, -1, -1, -1],\n",
       "       [-1, -1, -1, -1, -1]])"
      ]
     },
     "execution_count": 49,
     "metadata": {},
     "output_type": "execute_result"
    }
   ],
   "source": [
    "array_negative_1 = -np.ones_like(matrix_A)\n",
    "array_negative_1"
   ]
  },
  {
   "cell_type": "markdown",
   "metadata": {},
   "source": [
    "## **Random** Generators"
   ]
  },
  {
   "cell_type": "markdown",
   "metadata": {},
   "source": [
    "### Defining Random Generators"
   ]
  },
  {
   "cell_type": "code",
   "execution_count": 27,
   "metadata": {},
   "outputs": [],
   "source": [
    "from numpy.random import Generator as gen\n",
    "from numpy.random import PCG64 as pcg\n",
    "\n",
    "# We load two functions from the numpy.random module\n",
    "# Dua fungsi tersebut wajib digunakan saat generate random array\n",
    "# Dibuat aliasnya dengan gen dan pcg agar tidak memanggil nama aslinya yang panjang \"numpy.random.Generator\""
   ]
  },
  {
   "cell_type": "code",
   "execution_count": 28,
   "metadata": {},
   "outputs": [
    {
     "data": {
      "text/plain": [
       "array([[-1.5270306 ,  1.52938251, -0.9143592 , -0.16089776,  0.65360852],\n",
       "       [-1.69416951, -0.77208921, -1.08430799,  0.70093662,  0.60493441],\n",
       "       [ 0.30702595,  0.97680142, -0.05729642, -0.88432862, -1.69535749],\n",
       "       [ 1.2190002 ,  1.77185489, -1.08122465,  0.03056569, -0.41505336],\n",
       "       [-0.50966204, -0.99348025,  1.81049372,  0.47336698, -1.61141271]])"
      ]
     },
     "execution_count": 28,
     "metadata": {},
     "output_type": "execute_result"
    }
   ],
   "source": [
    "# Pertama kita generate random valuenya dulu\n",
    "array_RG = gen(pcg())\n",
    "\n",
    "# Lalu generate bentuk n-dimensional array\n",
    "# array_RG.normal()\n",
    "# array_RG.normal(size = 5)\n",
    "array_RG.normal(size = (5,5))\n",
    "\n",
    "# RG is short for Random Generator."
   ]
  },
  {
   "cell_type": "markdown",
   "metadata": {},
   "source": [
    "### Set a Seed"
   ]
  },
  {
   "cell_type": "markdown",
   "metadata": {},
   "source": [
    "We can **set a seed**, so that our random values don't change everytime we re-run the code.  \n",
    "We'll se the seed equal to 365.  \n",
    "**Seed itu seperti code**. Jika kita generate random tapi seednya 365, lalu orang lain generate random tapi seednya 365 juga, hasilnya akan sama."
   ]
  },
  {
   "cell_type": "code",
   "execution_count": 29,
   "metadata": {},
   "outputs": [
    {
     "data": {
      "text/plain": [
       "array([[-0.13640899,  0.09414431, -0.06300442,  1.05391641, -0.6866818 ],\n",
       "       [-0.50922173, -0.7999526 ,  0.73041825,  0.08825439, -2.1177576 ],\n",
       "       [ 0.65526774, -0.48095012, -0.5519114 , -0.58578662, -0.98257896],\n",
       "       [ 1.12378166, -1.30984316, -0.04703774,  0.955272  ,  0.26071745],\n",
       "       [-0.20023668, -1.50172484, -1.4929163 ,  0.96535084,  1.18694633]])"
      ]
     },
     "execution_count": 29,
     "metadata": {},
     "output_type": "execute_result"
    }
   ],
   "source": [
    "array_RG = gen(pcg(seed = 365)) \n",
    "array_RG.normal(size = (5,5))\n",
    "\n",
    "# Re-running this cell provides a consistent output, since the seed (with fixed starting values) is set. "
   ]
  },
  {
   "cell_type": "code",
   "execution_count": 30,
   "metadata": {},
   "outputs": [
    {
     "data": {
      "text/plain": [
       "array([[-0.76065577,  1.48158358,  0.01200258, -0.06846959,  0.25301664],\n",
       "       [-0.52640788,  0.79613109,  0.28203421,  1.80238008,  0.93932117],\n",
       "       [-0.53693283, -0.26317689, -1.77723035,  1.14900013, -2.20733915],\n",
       "       [ 1.54116775, -0.5124932 , -2.14564563,  1.98878673,  0.32208907],\n",
       "       [-1.2651495 ,  3.2714633 ,  1.78650493, -0.20233675,  0.20427467]])"
      ]
     },
     "execution_count": 30,
     "metadata": {},
     "output_type": "execute_result"
    }
   ],
   "source": [
    "array_RG.normal(size = (5,5))\n",
    "\n",
    "# The seed is fixed for a single iteration.\n",
    "# Kalo seed tidak didefinisikan didalam block yang sama, maka akan ke-randomize lagi "
   ]
  },
  {
   "cell_type": "markdown",
   "metadata": {},
   "source": [
    "### Generating Random **Integers**"
   ]
  },
  {
   "cell_type": "markdown",
   "metadata": {},
   "source": [
    "***low** = angka paling rendah dari range (batas bawah) -> optional  \n",
    "***high** = angka paling tinggi dari range (batas atas) -> optional"
   ]
  },
  {
   "cell_type": "code",
   "execution_count": 31,
   "metadata": {},
   "outputs": [
    {
     "data": {
      "text/plain": [
       "array([[0, 7, 6, 7, 8],\n",
       "       [6, 6, 2, 0, 6],\n",
       "       [3, 0, 3, 7, 9],\n",
       "       [1, 1, 8, 7, 4],\n",
       "       [4, 8, 6, 4, 9]], dtype=int64)"
      ]
     },
     "execution_count": 31,
     "metadata": {},
     "output_type": "execute_result"
    }
   ],
   "source": [
    "array_RG = gen(pcg(seed = 365)) \n",
    "array_RG.integers(10, size = (5,5))\n",
    "\n",
    "# Batas bawahnya 0, batas atasnya 10"
   ]
  },
  {
   "cell_type": "code",
   "execution_count": 32,
   "metadata": {},
   "outputs": [
    {
     "data": {
      "text/plain": [
       "array([[18, 78, 64, 78, 84],\n",
       "       [66, 67, 28, 10, 69],\n",
       "       [45, 15, 37, 74, 96],\n",
       "       [19, 21, 89, 73, 54],\n",
       "       [53, 84, 66, 51, 92]], dtype=int64)"
      ]
     },
     "execution_count": 32,
     "metadata": {},
     "output_type": "execute_result"
    }
   ],
   "source": [
    "array_RG = gen(pcg(seed = 365)) \n",
    "array_RG.integers(low = 10, high = 100, size = (5,5))\n",
    "\n",
    "# Menggunakan batas bawah dan batas atas"
   ]
  },
  {
   "cell_type": "markdown",
   "metadata": {},
   "source": [
    "### Generating Random **Probabilities**"
   ]
  },
  {
   "cell_type": "markdown",
   "metadata": {},
   "source": [
    "Array yang digenerate berupa value diantara 0 dan 1  \n",
    "Hasilnya pasti bertipe **float**"
   ]
  },
  {
   "cell_type": "code",
   "execution_count": 33,
   "metadata": {},
   "outputs": [
    {
     "data": {
      "text/plain": [
       "array([[0.75915734, 0.7662218 , 0.6291028 , 0.20336599, 0.66501486],\n",
       "       [0.06559111, 0.71326309, 0.10812106, 0.87969046, 0.49405844],\n",
       "       [0.82472673, 0.45652944, 0.07367232, 0.69628564, 0.36690736],\n",
       "       [0.29787156, 0.4996155 , 0.4865245 , 0.62740703, 0.54952637],\n",
       "       [0.64894629, 0.04411757, 0.7206516 , 0.84594003, 0.17159792]])"
      ]
     },
     "execution_count": 33,
     "metadata": {},
     "output_type": "execute_result"
    }
   ],
   "source": [
    "array_RG = gen(pcg(seed = 365)) \n",
    "array_RG.random(size = (5,5))"
   ]
  },
  {
   "cell_type": "markdown",
   "metadata": {},
   "source": [
    "### Generating Random **Choices**"
   ]
  },
  {
   "cell_type": "markdown",
   "metadata": {},
   "source": [
    "Valuenya berdasarkan list atau tuple yang kita definisikan  \n",
    "***array** yang akan mengisi value dari random generator kita  \n",
    "***probabilities** (p) terdiri dari 0 sampai 1 yang memberi tahu besarnya probabilitas value tersebut muncul di array kita"
   ]
  },
  {
   "cell_type": "code",
   "execution_count": 34,
   "metadata": {},
   "outputs": [
    {
     "data": {
      "text/plain": [
       "array([[2, 2, 2, 0, 2],\n",
       "       [9, 0, 2, 2, 0],\n",
       "       [0, 0, 1, 9, 9],\n",
       "       [9, 1, 0, 9, 2],\n",
       "       [1, 2, 9, 1, 9]])"
      ]
     },
     "execution_count": 34,
     "metadata": {},
     "output_type": "execute_result"
    }
   ],
   "source": [
    "array_RG.choice(matrix_A[0], size = (5,5))\n",
    "\n",
    "# Index ke 0 pada Matrix_A di contoh \"_like\"\n",
    "# Yang kegenerate value dari tuple index ke 0 tersebut di Matrix_A"
   ]
  },
  {
   "cell_type": "code",
   "execution_count": 35,
   "metadata": {},
   "outputs": [
    {
     "data": {
      "text/plain": [
       "array([[1, 4, 4, 4, 5],\n",
       "       [4, 4, 2, 1, 4],\n",
       "       [2, 1, 2, 4, 5],\n",
       "       [1, 1, 5, 4, 3],\n",
       "       [3, 5, 4, 3, 5]])"
      ]
     },
     "execution_count": 35,
     "metadata": {},
     "output_type": "execute_result"
    }
   ],
   "source": [
    "array_RG = gen(pcg(seed = 365)) \n",
    "array_RG.choice([1,2,3,4,5], size = (5,5))"
   ]
  },
  {
   "cell_type": "markdown",
   "metadata": {},
   "source": [
    "Banyaknya ***probabilities** harus sama dengan banyaknya value yang kita sediakan  \n",
    "Seperti contoh di bawah, valuenya ada 5 (1 sampai 5) berarti ***p** nya juga ada 5  \n",
    "Dan total ***p** harus 1 "
   ]
  },
  {
   "cell_type": "code",
   "execution_count": 36,
   "metadata": {},
   "outputs": [
    {
     "data": {
      "text/plain": [
       "array([[5, 5, 5, 3, 5],\n",
       "       [1, 5, 2, 5, 5],\n",
       "       [5, 5, 1, 5, 4],\n",
       "       [3, 5, 5, 5, 5],\n",
       "       [5, 1, 5, 5, 2]])"
      ]
     },
     "execution_count": 36,
     "metadata": {},
     "output_type": "execute_result"
    }
   ],
   "source": [
    "array_RG = gen(pcg(seed = 365)) \n",
    "array_RG.choice((1,2,3,4,5), p = [0.1,0.1,0.1,0.1,0.6], size = (5,5))\n",
    "\n",
    "# Cara bacanya probabilitas value 1 muncul adalah 10% \n",
    "# Probabilitas value 5 muncul adalah 60%\n",
    "# Chooses among a given set (with possible weighted probabilities)."
   ]
  },
  {
   "cell_type": "code",
   "execution_count": 37,
   "metadata": {},
   "outputs": [
    {
     "data": {
      "text/plain": [
       "array([['Tails', 'Heads', 'Heads'],\n",
       "       ['Tails', 'Tails', 'Tails'],\n",
       "       ['Tails', 'Tails', 'Tails']], dtype='<U5')"
      ]
     },
     "execution_count": 37,
     "metadata": {},
     "output_type": "execute_result"
    }
   ],
   "source": [
    "array_RG = gen(pcg(seed = 60)) \n",
    "array_RG.choice((\"Heads\",\"Tails\"), p = [0.3,0.7], size = (3,3))"
   ]
  },
  {
   "cell_type": "markdown",
   "metadata": {},
   "source": [
    "### Generating Arrays From **Known Distributions**"
   ]
  },
  {
   "cell_type": "markdown",
   "metadata": {},
   "source": [
    "Menggunakan persamaan statistik, seperti **Poisson**  **Binomial**  **Logistic**  **Exponential** dan lainnya  \n",
    "Masing-masing memiliki argumen unik yang wajib di define "
   ]
  },
  {
   "cell_type": "code",
   "execution_count": 38,
   "metadata": {
    "scrolled": true
   },
   "outputs": [
    {
     "data": {
      "text/plain": [
       "array([[2, 0, 1, 1, 2],\n",
       "       [1, 1, 0, 1, 1],\n",
       "       [1, 2, 1, 1, 0],\n",
       "       [0, 1, 0, 2, 1],\n",
       "       [0, 1, 0, 0, 2]], dtype=int64)"
      ]
     },
     "execution_count": 38,
     "metadata": {},
     "output_type": "execute_result"
    }
   ],
   "source": [
    "array_RG = gen(pcg(seed = 365)) \n",
    "array_RG.poisson(size = (5,5))\n",
    "\n",
    "# The default Poisson distribution."
   ]
  },
  {
   "cell_type": "code",
   "execution_count": 39,
   "metadata": {},
   "outputs": [
    {
     "data": {
      "text/plain": [
       "array([[11, 12, 12, 14, 13],\n",
       "       [ 9, 10, 11, 11,  8],\n",
       "       [11,  8, 10,  9, 14],\n",
       "       [ 7,  8,  9, 15, 15],\n",
       "       [13,  8,  8,  7,  9]], dtype=int64)"
      ]
     },
     "execution_count": 39,
     "metadata": {},
     "output_type": "execute_result"
    }
   ],
   "source": [
    "array_RG = gen(pcg(seed = 365)) \n",
    "array_RG.poisson(lam = 10,size = (5,5))\n",
    "\n",
    "# Specifying lambda. "
   ]
  },
  {
   "cell_type": "code",
   "execution_count": 40,
   "metadata": {},
   "outputs": [
    {
     "data": {
      "text/plain": [
       "array([[42, 44, 30, 36, 45],\n",
       "       [36, 41, 38, 42, 41],\n",
       "       [35, 31, 35, 46, 29],\n",
       "       [41, 41, 46, 34, 48],\n",
       "       [45, 45, 45, 40, 43]], dtype=int64)"
      ]
     },
     "execution_count": 40,
     "metadata": {},
     "output_type": "execute_result"
    }
   ],
   "source": [
    "array_RG = gen(pcg(seed = 365)) \n",
    "array_RG.binomial(n = 100, p = 0.4, size = (5,5))\n",
    "\n",
    "# A binomial distribution with p = 0.4 and 100 trials. "
   ]
  },
  {
   "cell_type": "code",
   "execution_count": 41,
   "metadata": {},
   "outputs": [
    {
     "data": {
      "text/plain": [
       "array([[10.37767822, 10.42451863,  9.63404367,  7.36153427,  9.82286787],\n",
       "       [ 5.81223125, 10.09354231,  6.46790532, 11.38740256,  8.97147918],\n",
       "       [10.85844698,  8.79081317,  5.962079  ,  9.99560681,  8.34539118],\n",
       "       [ 7.97105522,  8.9981544 ,  8.93530194,  9.6253307 ,  9.23850869],\n",
       "       [ 9.73729284,  5.3090678 , 10.13723528, 11.04372782,  7.11078651]])"
      ]
     },
     "execution_count": 41,
     "metadata": {},
     "output_type": "execute_result"
    }
   ],
   "source": [
    "array_RG = gen(pcg(seed = 365)) \n",
    "array_RG.logistic(loc = 9, scale = 1.2, size = (5,5))\n",
    "\n",
    "# A logistic distribution with a location = 9 and scale = 1.2."
   ]
  },
  {
   "cell_type": "markdown",
   "metadata": {},
   "source": [
    "### **Applications** of Random Generators"
   ]
  },
  {
   "cell_type": "markdown",
   "metadata": {},
   "source": [
    "#### Creating Tests"
   ]
  },
  {
   "cell_type": "code",
   "execution_count": 42,
   "metadata": {},
   "outputs": [],
   "source": [
    "array_RG = gen(pcg(seed = 365)) \n",
    "\n",
    "array_column_1 = array_RG.normal(loc = 2, scale = 3, size = (1000))\n",
    "array_column_2 = array_RG.normal(loc = 7, scale = 2, size = (1000))\n",
    "array_column_3 = array_RG.logistic(loc = 11, scale = 3, size = (1000))\n",
    "array_column_4  = array_RG.exponential(scale = 4, size = (1000))\n",
    "array_column_5  = array_RG.geometric(p = 0.7, size = (1000))\n",
    "\n",
    "# Create the individual columns of the dataset we're creating. "
   ]
  },
  {
   "cell_type": "code",
   "execution_count": 43,
   "metadata": {},
   "outputs": [
    {
     "data": {
      "text/plain": [
       "array([[ 1.59077303,  6.42174295, 10.14698427,  6.91500737,  1.        ],\n",
       "       [ 2.28243293,  8.57902322, 15.93309953,  6.243605  ,  1.        ],\n",
       "       [ 1.81098674,  5.17270135, -0.46878789,  2.44997251,  1.        ],\n",
       "       ...,\n",
       "       [ 0.1973629 ,  4.3465854 ,  2.66485989,  0.80935387,  1.        ],\n",
       "       [-2.21015722,  8.2176402 , 12.69328115,  0.50644607,  2.        ],\n",
       "       [ 2.91161235,  7.90337695, 11.79840961,  4.86816939,  1.        ]])"
      ]
     },
     "execution_count": 43,
     "metadata": {},
     "output_type": "execute_result"
    }
   ],
   "source": [
    "random_test_data = np.array([array_column_1, array_column_2, array_column_3, array_column_4, array_column_5]).transpose()\n",
    "random_test_data\n",
    "\n",
    "# Menggabungkan semua array menjadi 1 array baru dengan nama \"random_test_data\" \n",
    "# lalu di transpose agar barisnya 1000 kolomnya 5 (sebelumnya kolomnya seribu barisnya 5)\n",
    "# Use np.array to generate a new array with the 5 arrays we created earlier. \n",
    "# Use the transpose method to make sure our dataset isn't flipped. "
   ]
  },
  {
   "cell_type": "code",
   "execution_count": 44,
   "metadata": {},
   "outputs": [
    {
     "data": {
      "text/plain": [
       "(1000, 5)"
      ]
     },
     "execution_count": 44,
     "metadata": {},
     "output_type": "execute_result"
    }
   ],
   "source": [
    "random_test_data.shape"
   ]
  },
  {
   "cell_type": "markdown",
   "metadata": {},
   "source": [
    "#### **Saving** Tests to **CSV** file"
   ]
  },
  {
   "cell_type": "code",
   "execution_count": 45,
   "metadata": {},
   "outputs": [],
   "source": [
    "np.savetxt(\"Random-Test-from-NumPy.csv\", random_test_data, fmt = '%s', delimiter = ',')\n",
    "\n",
    "\n",
    "# Saving the arrays to an extrenal file we're creating. \n",
    "\n",
    "# file name -> \"Random-Test-from-NumPy.csv\"\n",
    "# random_test_data -> data we're exporting (saving to an external file)\n",
    "# format -> strings\n",
    "# delimiter \",\""
   ]
  },
  {
   "cell_type": "markdown",
   "metadata": {},
   "source": [
    "#### **Import** Tests from **CSV** file"
   ]
  },
  {
   "cell_type": "code",
   "execution_count": 46,
   "metadata": {},
   "outputs": [
    {
     "data": {
      "text/plain": [
       "array([[ 1.59077303,  6.42174295, 10.14698427,  6.91500737,  1.        ],\n",
       "       [ 2.28243293,  8.57902322, 15.93309953,  6.243605  ,  1.        ],\n",
       "       [ 1.81098674,  5.17270135, -0.46878789,  2.44997251,  1.        ],\n",
       "       ...,\n",
       "       [ 0.1973629 ,  4.3465854 ,  2.66485989,  0.80935387,  1.        ],\n",
       "       [-2.21015722,  8.2176402 , 12.69328115,  0.50644607,  2.        ],\n",
       "       [ 2.91161235,  7.90337695, 11.79840961,  4.86816939,  1.        ]])"
      ]
     },
     "execution_count": 46,
     "metadata": {},
     "output_type": "execute_result"
    }
   ],
   "source": [
    "np.genfromtxt(\"Random-Test-from-NumPy.csv\", delimiter = ',')\n",
    "\n",
    "# Importing the data from the file we just created. "
   ]
  },
  {
   "cell_type": "code",
   "execution_count": 47,
   "metadata": {},
   "outputs": [
    {
     "name": "stdout",
     "output_type": "stream",
     "text": [
      "[[ 1.59077303  6.42174295 10.14698427  6.91500737  1.        ]\n",
      " [ 2.28243293  8.57902322 15.93309953  6.243605    1.        ]\n",
      " [ 1.81098674  5.17270135 -0.46878789  2.44997251  1.        ]\n",
      " ...\n",
      " [ 0.1973629   4.3465854   2.66485989  0.80935387  1.        ]\n",
      " [-2.21015722  8.2176402  12.69328115  0.50644607  2.        ]\n",
      " [ 2.91161235  7.90337695 11.79840961  4.86816939  1.        ]]\n"
     ]
    }
   ],
   "source": [
    "rand_test_data = np.genfromtxt(\"Random-Test-from-NumPy.csv\", delimiter = ',')\n",
    "print(rand_test_data)"
   ]
  }
 ],
 "metadata": {
  "kernelspec": {
   "display_name": "Python 3.11.0 64-bit",
   "language": "python",
   "name": "python3"
  },
  "language_info": {
   "codemirror_mode": {
    "name": "ipython",
    "version": 3
   },
   "file_extension": ".py",
   "mimetype": "text/x-python",
   "name": "python",
   "nbconvert_exporter": "python",
   "pygments_lexer": "ipython3",
   "version": "3.11.0"
  },
  "vscode": {
   "interpreter": {
    "hash": "64924d34f5c95f261818ee0e41d58b43741dcf0b72677c10b726c1fe86046c0c"
   }
  }
 },
 "nbformat": 4,
 "nbformat_minor": 2
}
